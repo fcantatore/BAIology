{
 "cells": [
  {
   "attachments": {},
   "cell_type": "markdown",
   "metadata": {},
   "source": [
    "# Logistic Regression"
   ]
  },
  {
   "cell_type": "code",
   "execution_count": 29,
   "metadata": {},
   "outputs": [],
   "source": [
    "import matplotlib.pyplot as plt\n",
    "import ipywidgets as widgets\n",
    "from sklearn.svm import SVC\n",
    "import sklearn as sk\n",
    "import seaborn as sns \n",
    "import pandas as pd\n",
    "import numpy as np"
   ]
  },
  {
   "cell_type": "code",
   "execution_count": 30,
   "metadata": {},
   "outputs": [],
   "source": [
    "#given a dataset it returns a list will all the values of the targets (hypo = 0 and Norm = 0)\n",
    "def labels(df):\n",
    "    target = []\n",
    "    for c in df.columns:\n",
    "        if \"Hypoxia\" in c.split(\"_\") or \"Hypo\" in c.split(\"_\"):\n",
    "            target.append(0.0)\n",
    "        elif \"Normoxia\" in c.split(\"_\") or \"Norm\" in c.split(\"_\"):\n",
    "            target.append(1.0)\n",
    "        else:\n",
    "            raise ValueError(\"Cell cannot be categorized\")\n",
    "    return target\n",
    "        "
   ]
  },
  {
   "cell_type": "code",
   "execution_count": 31,
   "metadata": {},
   "outputs": [],
   "source": [
    "file = 'MCF7'\n",
    "#>> Import Data (Missing XCells train data)\n",
    "filepath_Train = \"raw_data\\\\\"+file+\"_SmartS_Filtered_Normalised_3000_Data_train.txt\"\n",
    "df_Train = pd.read_csv(filepath_Train,delimiter=\"\\ \",engine='python',index_col=0)\n",
    "\n",
    "\n",
    "y = labels(df_Train)\n",
    "model = sk.linear_model.LogisticRegression().fit(df_Train.T, y)\n",
    "\n"
   ]
  },
  {
   "attachments": {},
   "cell_type": "markdown",
   "metadata": {},
   "source": [
    "# Perfromance Measures"
   ]
  },
  {
   "cell_type": "code",
   "execution_count": 35,
   "metadata": {},
   "outputs": [
    {
     "data": {
      "text/plain": [
       "array([[  343,   131,   452, ..., 34565, 20024,  5953],\n",
       "       [  140,    59,   203, ..., 13717,  7835,  2367],\n",
       "       [    0,     0,     0, ..., 11274,   563,   522],\n",
       "       ...,\n",
       "       [   51,    34,     0, ...,   140,     7,    37],\n",
       "       [    0,     0,     0, ...,     0,     0,     0],\n",
       "       [    0,     0,     0, ...,    32,    11,    12]], dtype=int64)"
      ]
     },
     "execution_count": 35,
     "metadata": {},
     "output_type": "execute_result"
    }
   ],
   "source": [
    "from sklearn.model_selection import cross_val_score\n",
    "\n",
    "cross_val_score(model, df_Train.T, y, cv=3, scoring=\"accuracy\")\n",
    "np.array(df_Train)"
   ]
  },
  {
   "cell_type": "code",
   "execution_count": 33,
   "metadata": {},
   "outputs": [],
   "source": [
    "from sklearn.model_selection import cross_val_predict\n",
    "\n",
    "y_train_pred = cross_val_predict(model, df_Train.T, y, cv=3)"
   ]
  },
  {
   "cell_type": "code",
   "execution_count": 37,
   "metadata": {},
   "outputs": [
    {
     "data": {
      "text/plain": [
       "array([[124,   0],\n",
       "       [  1, 125]], dtype=int64)"
      ]
     },
     "execution_count": 37,
     "metadata": {},
     "output_type": "execute_result"
    }
   ],
   "source": [
    "from sklearn.metrics import confusion_matrix\n",
    "\n",
    "cm = confusion_matrix(y, y_train_pred)\n",
    "cm"
   ]
  }
 ],
 "metadata": {
  "kernelspec": {
   "display_name": "ML",
   "language": "python",
   "name": "python3"
  },
  "language_info": {
   "codemirror_mode": {
    "name": "ipython",
    "version": 3
   },
   "file_extension": ".py",
   "mimetype": "text/x-python",
   "name": "python",
   "nbconvert_exporter": "python",
   "pygments_lexer": "ipython3",
   "version": "3.9.16"
  },
  "orig_nbformat": 4
 },
 "nbformat": 4,
 "nbformat_minor": 2
}
